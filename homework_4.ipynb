{
 "cells": [
  {
   "cell_type": "markdown",
   "metadata": {},
   "source": [
    "Задание 1\n",
    "\n",
    "Напишите функцию date_range, которая возвращает список дней между датами start_date и end_date. \n",
    "Даты должны вводиться в формате YYYY-MM-DD."
   ]
  },
  {
   "cell_type": "code",
   "execution_count": 46,
   "metadata": {},
   "outputs": [
    {
     "data": {
      "text/plain": [
       "[datetime.datetime(2019, 3, 20, 0, 0),\n",
       " datetime.datetime(2019, 3, 21, 0, 0),\n",
       " datetime.datetime(2019, 3, 22, 0, 0),\n",
       " datetime.datetime(2019, 3, 23, 0, 0),\n",
       " datetime.datetime(2019, 3, 24, 0, 0),\n",
       " datetime.datetime(2019, 3, 25, 0, 0),\n",
       " datetime.datetime(2019, 3, 26, 0, 0),\n",
       " datetime.datetime(2019, 3, 27, 0, 0),\n",
       " datetime.datetime(2019, 3, 28, 0, 0),\n",
       " datetime.datetime(2019, 3, 29, 0, 0),\n",
       " datetime.datetime(2019, 3, 30, 0, 0)]"
      ]
     },
     "execution_count": 46,
     "metadata": {},
     "output_type": "execute_result"
    }
   ],
   "source": [
    "from datetime import datetime, timedelta\n",
    "def date_range (start_date, end_date):\n",
    "    list_of_dates = []\n",
    "    start_date_ = datetime.strptime(start_date, '%Y-%m-%d')\n",
    "    end_date_ = datetime.strptime(end_date, '%Y-%m-%d')\n",
    "    \n",
    "    while start_date_ <= end_date_:\n",
    "        list_of_dates.append(start_date_)\n",
    "        start_date_ = start_date_+timedelta(days=1)\n",
    "    return list_of_dates\n",
    "\n",
    "list_of_dates = date_range('2019-03-20','2019-03-30')\n",
    "list_of_dates"
   ]
  },
  {
   "cell_type": "markdown",
   "metadata": {},
   "source": [
    "Задание 2\n",
    "\n",
    "Дополните функцию из первого задания проверкой на корректность дат. \n",
    "В случае неверного формата или если start_date > end_date должен возвращаться пустой список."
   ]
  },
  {
   "cell_type": "code",
   "execution_count": 68,
   "metadata": {},
   "outputs": [
    {
     "data": {
      "text/plain": [
       "[datetime.datetime(2019, 3, 20, 0, 0),\n",
       " datetime.datetime(2019, 3, 21, 0, 0),\n",
       " datetime.datetime(2019, 3, 22, 0, 0),\n",
       " datetime.datetime(2019, 3, 23, 0, 0),\n",
       " datetime.datetime(2019, 3, 24, 0, 0),\n",
       " datetime.datetime(2019, 3, 25, 0, 0),\n",
       " datetime.datetime(2019, 3, 26, 0, 0),\n",
       " datetime.datetime(2019, 3, 27, 0, 0),\n",
       " datetime.datetime(2019, 3, 28, 0, 0),\n",
       " datetime.datetime(2019, 3, 29, 0, 0),\n",
       " datetime.datetime(2019, 3, 30, 0, 0)]"
      ]
     },
     "execution_count": 68,
     "metadata": {},
     "output_type": "execute_result"
    }
   ],
   "source": [
    "def date_range (start_date, end_date):\n",
    "    dates = []\n",
    "    list_of_dates = []\n",
    "    try:\n",
    "        start_date_ = datetime.strptime(start_date, '%Y-%m-%d')\n",
    "        end_date_ = datetime.strptime(end_date, '%Y-%m-%d')\n",
    "    except Exception:\n",
    "        dates = [' ']\n",
    "        \n",
    "    if start_date_ > end_date_:\n",
    "        return dates\n",
    "    else:\n",
    "        while start_date_ <= end_date_:\n",
    "            dates.append(start_date_)\n",
    "            start_date_ = start_date_ + timedelta(days=1)\n",
    "    return dates\n",
    "\n",
    "list_of_dates = date_range('2019-03-20','2019-03-30')\n",
    "list_of_dates"
   ]
  },
  {
   "cell_type": "markdown",
   "metadata": {},
   "source": [
    "Задание 3\n",
    "\n",
    "Дан поток дат в формате YYYY-MM-DD, в которых встречаются некорректные значения:\n",
    "stream = [‘2018-04-02’, ‘2018-02-29’, ‘2018-19-02’]\n",
    "Напишите функцию, которая проверяет эти даты на корректность. Т. е. для каждой даты возвращает True (дата корректна) или False (некорректная дата).\n",
    "\n"
   ]
  },
  {
   "cell_type": "code",
   "execution_count": 67,
   "metadata": {},
   "outputs": [
    {
     "name": "stdout",
     "output_type": "stream",
     "text": [
      "2018-04-02  is True\n",
      "2018-02-29  is False\n",
      "2018-19-02  is False\n"
     ]
    }
   ],
   "source": [
    "stream = ['2018-04-02','2018-02-29','2018-19-02']\n",
    "def date_check(stream):\n",
    "    i = 0\n",
    "    for i in range(len(stream)):\n",
    "        try:\n",
    "            date_format = datetime.strptime(stream[i], '%Y-%m-%d')\n",
    "            print(stream[i],' is True')\n",
    "        except Exception:\n",
    "            print(stream[i],' is False')\n",
    "        i += 1\n",
    "date_check(stream)\n"
   ]
  }
 ],
 "metadata": {
  "kernelspec": {
   "display_name": "Python 3",
   "language": "python",
   "name": "python3"
  },
  "language_info": {
   "codemirror_mode": {
    "name": "ipython",
    "version": 3
   },
   "file_extension": ".py",
   "mimetype": "text/x-python",
   "name": "python",
   "nbconvert_exporter": "python",
   "pygments_lexer": "ipython3",
   "version": "3.7.1"
  }
 },
 "nbformat": 4,
 "nbformat_minor": 2
}
