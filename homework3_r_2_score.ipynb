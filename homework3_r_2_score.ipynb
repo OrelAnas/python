{
 "cells": [
  {
   "cell_type": "markdown",
   "metadata": {},
   "source": [
    "# Домашнее задание \"Введение в Feature Selection\""
   ]
  },
  {
   "cell_type": "markdown",
   "metadata": {},
   "source": [
    "1.Разделить дата сет на трейн и тест в отношение 50:50 70:30 80:20 (с перемешиванием)"
   ]
  },
  {
   "cell_type": "markdown",
   "metadata": {},
   "source": [
    "2.Обучать наши модели на трейне. Предсказывать и замерять метрику R^2 и на трейне и на тесте"
   ]
  },
  {
   "cell_type": "markdown",
   "metadata": {},
   "source": [
    "3.Проверить следующие модели, для каждого разделения: а) sales ~ log_tv + radio б) sales ~ TV + radio в) sales ~ TV + radio + newspaper"
   ]
  },
  {
   "cell_type": "code",
   "execution_count": 38,
   "metadata": {},
   "outputs": [],
   "source": [
    "# Common imports\n",
    "import pandas as pd\n",
    "import numpy as np\n",
    "import statsmodels.api as sm\n",
    "import statsmodels.formula.api as smf\n",
    "from sklearn.model_selection import train_test_split\n",
    "import math\n",
    "\n",
    "# to make this notebook's output stable across runs\n",
    "np.random.seed(42)\n",
    "\n",
    "# To plot pretty figures\n",
    "import matplotlib\n",
    "import matplotlib.pyplot as plt\n",
    "from mpl_toolkits.mplot3d import axes3d\n",
    "%matplotlib inline\n",
    "\n",
    "plt.rcParams['axes.labelsize'] = 14\n",
    "plt.rcParams['xtick.labelsize'] = 12\n",
    "plt.rcParams['ytick.labelsize'] = 12\n",
    "plt.rcParams['figure.figsize'] = (10, 5)"
   ]
  },
  {
   "cell_type": "code",
   "execution_count": 39,
   "metadata": {},
   "outputs": [],
   "source": [
    "import os\n",
    "import urllib\n",
    "import shutil\n",
    "\n",
    "def download_file(url, dir_path=\"data\"):\n",
    "    if not os.path.exists(dir_path):\n",
    "        os.makedirs(dir_path)\n",
    "        \n",
    "    file_name = os.path.split(url)[-1]\n",
    "    file_path = os.path.join(dir_path, file_name)\n",
    "    \n",
    "    with urllib.request.urlopen(url) as response, open(file_path, 'wb') as out_file:\n",
    "        shutil.copyfileobj(response, out_file)\n",
    "        \n",
    "    return file_path"
   ]
  },
  {
   "cell_type": "code",
   "execution_count": 40,
   "metadata": {},
   "outputs": [],
   "source": [
    "from sklearn.preprocessing import StandardScaler, normalize, MinMaxScaler"
   ]
  },
  {
   "cell_type": "code",
   "execution_count": 41,
   "metadata": {},
   "outputs": [
    {
     "data": {
      "text/html": [
       "<div>\n",
       "<style scoped>\n",
       "    .dataframe tbody tr th:only-of-type {\n",
       "        vertical-align: middle;\n",
       "    }\n",
       "\n",
       "    .dataframe tbody tr th {\n",
       "        vertical-align: top;\n",
       "    }\n",
       "\n",
       "    .dataframe thead th {\n",
       "        text-align: right;\n",
       "    }\n",
       "</style>\n",
       "<table border=\"1\" class=\"dataframe\">\n",
       "  <thead>\n",
       "    <tr style=\"text-align: right;\">\n",
       "      <th></th>\n",
       "      <th>TV</th>\n",
       "      <th>radio</th>\n",
       "      <th>newspaper</th>\n",
       "      <th>sales</th>\n",
       "    </tr>\n",
       "  </thead>\n",
       "  <tbody>\n",
       "    <tr>\n",
       "      <th>0</th>\n",
       "      <td>230.1</td>\n",
       "      <td>37.8</td>\n",
       "      <td>69.2</td>\n",
       "      <td>22.1</td>\n",
       "    </tr>\n",
       "    <tr>\n",
       "      <th>1</th>\n",
       "      <td>44.5</td>\n",
       "      <td>39.3</td>\n",
       "      <td>45.1</td>\n",
       "      <td>10.4</td>\n",
       "    </tr>\n",
       "    <tr>\n",
       "      <th>2</th>\n",
       "      <td>17.2</td>\n",
       "      <td>45.9</td>\n",
       "      <td>69.3</td>\n",
       "      <td>9.3</td>\n",
       "    </tr>\n",
       "    <tr>\n",
       "      <th>3</th>\n",
       "      <td>151.5</td>\n",
       "      <td>41.3</td>\n",
       "      <td>58.5</td>\n",
       "      <td>18.5</td>\n",
       "    </tr>\n",
       "    <tr>\n",
       "      <th>4</th>\n",
       "      <td>180.8</td>\n",
       "      <td>10.8</td>\n",
       "      <td>58.4</td>\n",
       "      <td>12.9</td>\n",
       "    </tr>\n",
       "  </tbody>\n",
       "</table>\n",
       "</div>"
      ],
      "text/plain": [
       "      TV  radio  newspaper  sales\n",
       "0  230.1   37.8       69.2   22.1\n",
       "1   44.5   39.3       45.1   10.4\n",
       "2   17.2   45.9       69.3    9.3\n",
       "3  151.5   41.3       58.5   18.5\n",
       "4  180.8   10.8       58.4   12.9"
      ]
     },
     "execution_count": 41,
     "metadata": {},
     "output_type": "execute_result"
    }
   ],
   "source": [
    "download_file(\"http://www-bcf.usc.edu/~gareth/ISL/Advertising.csv\")\n",
    "adv_df = pd.read_csv('data/Advertising.csv', usecols=[1,2,3,4])\n",
    "adv_df.head()"
   ]
  },
  {
   "cell_type": "code",
   "execution_count": 42,
   "metadata": {},
   "outputs": [
    {
     "name": "stdout",
     "output_type": "stream",
     "text": [
      "<class 'pandas.core.frame.DataFrame'>\n",
      "RangeIndex: 200 entries, 0 to 199\n",
      "Data columns (total 4 columns):\n",
      "TV           200 non-null float64\n",
      "radio        200 non-null float64\n",
      "newspaper    200 non-null float64\n",
      "sales        200 non-null float64\n",
      "dtypes: float64(4)\n",
      "memory usage: 6.3 KB\n"
     ]
    }
   ],
   "source": [
    "adv_df.info()"
   ]
  },
  {
   "cell_type": "code",
   "execution_count": 43,
   "metadata": {},
   "outputs": [],
   "source": [
    "adv_df['log_tv'] = adv_df.TV.apply(lambda x: math.pow(x, 0.4))"
   ]
  },
  {
   "cell_type": "code",
   "execution_count": 44,
   "metadata": {},
   "outputs": [
    {
     "name": "stdout",
     "output_type": "stream",
     "text": [
      "Total transactions in train dataset:  100\n",
      "Total transactions in test dataset:  100\n"
     ]
    }
   ],
   "source": [
    "#50/50\n",
    "from sklearn.model_selection import train_test_split\n",
    "\n",
    "adv_train_50, adv_test_50 = train_test_split(adv_df, test_size=0.5, random_state=42, shuffle=True)\n",
    "\n",
    "print(\"Total transactions in train dataset: \", len(adv_train_50))\n",
    "print(\"Total transactions in test dataset: \", len(adv_test_50))"
   ]
  },
  {
   "cell_type": "code",
   "execution_count": 87,
   "metadata": {},
   "outputs": [
    {
     "name": "stdout",
     "output_type": "stream",
     "text": [
      "Total transactions in train dataset:  140\n",
      "Total transactions in test dataset:  60\n"
     ]
    }
   ],
   "source": [
    "#70/30\n",
    "\n",
    "adv_train_70, adv_test_30 = train_test_split(adv_df, test_size=0.3, random_state=42, shuffle=True)\n",
    "\n",
    "print(\"Total transactions in train dataset: \", len(adv_train_70))\n",
    "print(\"Total transactions in test dataset: \", len(adv_test_30))"
   ]
  },
  {
   "cell_type": "code",
   "execution_count": 88,
   "metadata": {},
   "outputs": [
    {
     "name": "stdout",
     "output_type": "stream",
     "text": [
      "Total transactions in train dataset:  160\n",
      "Total transactions in test dataset:  40\n"
     ]
    }
   ],
   "source": [
    "#80/20\n",
    "\n",
    "adv_train_80, adv_test_20 = train_test_split(adv_df, test_size=0.2, random_state=42, shuffle=True)\n",
    "\n",
    "print(\"Total transactions in train dataset: \", len(adv_train_80))\n",
    "print(\"Total transactions in test dataset: \", len(adv_test_20))"
   ]
  },
  {
   "cell_type": "markdown",
   "metadata": {},
   "source": [
    "# sales ~ log_tv + radio"
   ]
  },
  {
   "cell_type": "code",
   "execution_count": 56,
   "metadata": {},
   "outputs": [
    {
     "name": "stdout",
     "output_type": "stream",
     "text": [
      "RSS: 200.23499560383388\n",
      "RSE: 0.14588084055549225\n",
      "R^2: 0.9273049082016976\n"
     ]
    }
   ],
   "source": [
    "three_x_lm = smf.ols('sales ~ log_tv + radio', adv_train_50).fit()\n",
    "\n",
    "\n",
    "#расчет метрик\n",
    "print(\"RSS:\", np.sum(three_x_lm.resid ** 2))\n",
    "print(\"RSE:\", np.sqrt(np.sum(three_x_lm.resid ** 2)) / (adv_train_50.shape[0] - 2 - 1))\n",
    "print(\"R^2:\", three_x_lm.rsquared)"
   ]
  },
  {
   "cell_type": "code",
   "execution_count": 68,
   "metadata": {},
   "outputs": [
    {
     "name": "stdout",
     "output_type": "stream",
     "text": [
      "for sales ~ log_tv + radio:\n",
      "RSS_test: 169.91612211411694\n",
      "RSE_test: 1.3235227988646843\n",
      "R^2_test: 0.9350266772150859\n"
     ]
    }
   ],
   "source": [
    "#получение предссказания на тесте\n",
    "y_pred_test = three_x_lm.predict(adv_test_50[['log_tv', 'radio']])\n",
    "y_test = adv_test_50['sales']\n",
    "\n",
    "#рассчет метрик\n",
    "TSS_test = np.sum((y_test - y_test.mean())**2)\n",
    "RSS_test = np.sum((y_test - y_pred_test)**2)\n",
    "RSE_test = np.sqrt(RSS_test / (adv_test_50.shape[0] - 2 - 1))\n",
    "\n",
    "R_2_test2 = sklearn.metrics.r2_score(y_test, y_pred_test)\n",
    "print('for sales ~ log_tv + radio:')\n",
    "print(\"RSS_test:\", RSS_test)\n",
    "print(\"RSE_test:\", RSE_test)\n",
    "print(\"R^2_test:\", R_2_test2)\n"
   ]
  },
  {
   "cell_type": "code",
   "execution_count": 54,
   "metadata": {},
   "outputs": [
    {
     "name": "stdout",
     "output_type": "stream",
     "text": [
      "RSS: 256.44355253955246\n",
      "RSE: 0.11688945268659374\n",
      "R^2: 0.9301954868019677\n"
     ]
    }
   ],
   "source": [
    "three_x_lm = smf.ols('sales ~ log_tv + radio', adv_train_70).fit()\n",
    "\n",
    "\n",
    "#расчет метрик\n",
    "print(\"RSS:\", np.sum(three_x_lm.resid ** 2))\n",
    "print(\"RSE:\", np.sqrt(np.sum(three_x_lm.resid ** 2)) / (adv_train_70.shape[0] - 2 - 1))\n",
    "print(\"R^2:\", three_x_lm.rsquared)"
   ]
  },
  {
   "cell_type": "code",
   "execution_count": 66,
   "metadata": {},
   "outputs": [
    {
     "name": "stdout",
     "output_type": "stream",
     "text": [
      "for sales ~ log_tv + radio:\n",
      "RSS_test: 114.84581950563864\n",
      "RSE_test: 1.4194502240992513\n",
      "R^2_test: 0.929898390469717\n"
     ]
    }
   ],
   "source": [
    "#получение предссказания на тесте\n",
    "y_pred_test = three_x_lm.predict(adv_test_30[['log_tv', 'radio']])\n",
    "y_test = adv_test_30['sales']\n",
    "\n",
    "#рассчет метрик\n",
    "TSS_test = np.sum((y_test - y_test.mean())**2)\n",
    "RSS_test = np.sum((y_test - y_pred_test)**2)\n",
    "RSE_test = np.sqrt(RSS_test / (adv_test_30.shape[0] - 2 - 1))\n",
    "\n",
    "R_2_test2 = sklearn.metrics.r2_score(y_test, y_pred_test)\n",
    "print('for sales ~ log_tv + radio:')\n",
    "print(\"RSS_test:\", RSS_test)\n",
    "print(\"RSE_test:\", RSE_test)\n",
    "print(\"R^2_test:\", R_2_test2)"
   ]
  },
  {
   "cell_type": "code",
   "execution_count": 63,
   "metadata": {},
   "outputs": [
    {
     "name": "stdout",
     "output_type": "stream",
     "text": [
      "RSS: 300.130315845859\n",
      "RSE: 0.11034566599798143\n",
      "R^2: 0.9276759564687794\n"
     ]
    }
   ],
   "source": [
    "three_x_lm = smf.ols('sales ~ log_tv + radio', adv_train_80).fit()\n",
    "\n",
    "\n",
    "#расчет метрик\n",
    "print(\"RSS:\", np.sum(three_x_lm.resid ** 2))\n",
    "print(\"RSE:\", np.sqrt(np.sum(three_x_lm.resid ** 2)) / (adv_train_80.shape[0] - 2 - 1))\n",
    "print(\"R^2:\", three_x_lm.rsquared)"
   ]
  },
  {
   "cell_type": "code",
   "execution_count": 65,
   "metadata": {},
   "outputs": [
    {
     "name": "stdout",
     "output_type": "stream",
     "text": [
      "for sales ~ log_tv + radio:\n",
      "RSS_test: 72.51557727371339\n",
      "RSE_test: 1.3999573089409256\n",
      "R^2_test: 0.942563909350695\n"
     ]
    }
   ],
   "source": [
    "#получение предссказания на тесте\n",
    "y_pred_test = three_x_lm.predict(adv_test_20[['log_tv', 'radio']])\n",
    "y_test = adv_test_20['sales']\n",
    "\n",
    "#рассчет метрик\n",
    "TSS_test = np.sum((y_test - y_test.mean())**2)\n",
    "RSS_test = np.sum((y_test - y_pred_test)**2)\n",
    "RSE_test = np.sqrt(RSS_test / (adv_test_20.shape[0] - 2 - 1))\n",
    "\n",
    "R_2_test2 = sklearn.metrics.r2_score(y_test, y_pred_test)\n",
    "\n",
    "print('for sales ~ log_tv + radio:')\n",
    "print(\"RSS_test:\", RSS_test)\n",
    "print(\"RSE_test:\", RSE_test)\n",
    "print(\"R^2_test:\", R_2_test2)"
   ]
  },
  {
   "cell_type": "markdown",
   "metadata": {},
   "source": [
    "# sales ~ TV + radio"
   ]
  },
  {
   "cell_type": "code",
   "execution_count": 71,
   "metadata": {},
   "outputs": [
    {
     "name": "stdout",
     "output_type": "stream",
     "text": [
      "RSS: 269.79672077541716\n",
      "RSE: 0.16933494815087197\n",
      "R^2: 0.9020506014720118\n"
     ]
    }
   ],
   "source": [
    "three_x_lm = smf.ols('sales ~ TV + radio', adv_train_50).fit()\n",
    "\n",
    "\n",
    "#расчет метрик\n",
    "print(\"RSS:\", np.sum(three_x_lm.resid ** 2))\n",
    "print(\"RSE:\", np.sqrt(np.sum(three_x_lm.resid ** 2)) / (adv_train_50.shape[0] - 2 - 1))\n",
    "print(\"R^2:\", three_x_lm.rsquared)"
   ]
  },
  {
   "cell_type": "code",
   "execution_count": 72,
   "metadata": {},
   "outputs": [
    {
     "name": "stdout",
     "output_type": "stream",
     "text": [
      "for sales ~ TV + radio:\n",
      "RSS_test: 306.90663871598946\n",
      "RSE_test: 1.7787596707099644\n",
      "R^2_test: 0.8826436017134698\n"
     ]
    }
   ],
   "source": [
    "#получение предссказания на тесте\n",
    "y_pred_test = three_x_lm.predict(adv_test_50[['radio', 'TV']])\n",
    "y_test = adv_test_50['sales']\n",
    "\n",
    "#рассчет метрик\n",
    "TSS_test = np.sum((y_test - y_test.mean())**2)\n",
    "RSS_test = np.sum((y_test - y_pred_test)**2)\n",
    "RSE_test = np.sqrt(RSS_test / (adv_test_50.shape[0] - 2 - 1))\n",
    "\n",
    "R_2_test2 = sklearn.metrics.r2_score(y_test, y_pred_test)\n",
    "\n",
    "print('for sales ~ TV + radio:')\n",
    "print(\"RSS_test:\", RSS_test)\n",
    "print(\"RSE_test:\", RSE_test)\n",
    "print(\"R^2_test:\", R_2_test2)"
   ]
  },
  {
   "cell_type": "code",
   "execution_count": 73,
   "metadata": {},
   "outputs": [
    {
     "name": "stdout",
     "output_type": "stream",
     "text": [
      "RSS: 349.6011203718844\n",
      "RSE: 0.13647900283453715\n",
      "R^2: 0.9048377867980043\n"
     ]
    }
   ],
   "source": [
    "three_x_lm = smf.ols('sales ~ TV + radio', adv_train_70).fit()\n",
    "\n",
    "\n",
    "#расчет метрик\n",
    "print(\"RSS:\", np.sum(three_x_lm.resid ** 2))\n",
    "print(\"RSE:\", np.sqrt(np.sum(three_x_lm.resid ** 2)) / (adv_train_70.shape[0] - 2 - 1))\n",
    "print(\"R^2:\", three_x_lm.rsquared)"
   ]
  },
  {
   "cell_type": "code",
   "execution_count": 74,
   "metadata": {},
   "outputs": [
    {
     "name": "stdout",
     "output_type": "stream",
     "text": [
      "for sales ~ TV + radio:\n",
      "RSS_test: 220.14282327184094\n",
      "RSE_test: 1.9652365746247507\n",
      "R^2_test: 0.8656253548947074\n"
     ]
    }
   ],
   "source": [
    "#получение предссказания на тесте\n",
    "y_pred_test = three_x_lm.predict(adv_test_30[['radio', 'TV']])\n",
    "y_test = adv_test_30['sales']\n",
    "\n",
    "#рассчет метрик\n",
    "TSS_test = np.sum((y_test - y_test.mean())**2)\n",
    "RSS_test = np.sum((y_test - y_pred_test)**2)\n",
    "RSE_test = np.sqrt(RSS_test / (adv_test_30.shape[0] - 2 - 1))\n",
    "\n",
    "R_2_test2 = sklearn.metrics.r2_score(y_test, y_pred_test)\n",
    "\n",
    "print('for sales ~ TV + radio:')\n",
    "print(\"RSS_test:\", RSS_test)\n",
    "print(\"RSE_test:\", RSE_test)\n",
    "print(\"R^2_test:\", R_2_test2)"
   ]
  },
  {
   "cell_type": "code",
   "execution_count": 75,
   "metadata": {},
   "outputs": [
    {
     "name": "stdout",
     "output_type": "stream",
     "text": [
      "RSS: 433.2465274979225\n",
      "RSE: 0.13257691007330222\n",
      "R^2: 0.8955982149747163\n"
     ]
    }
   ],
   "source": [
    "three_x_lm = smf.ols('sales ~ TV + radio', adv_train_80).fit()\n",
    "\n",
    "\n",
    "#расчет метрик\n",
    "print(\"RSS:\", np.sum(three_x_lm.resid ** 2))\n",
    "print(\"RSE:\", np.sqrt(np.sum(three_x_lm.resid ** 2)) / (adv_train_80.shape[0] - 2 - 1))\n",
    "print(\"R^2:\", three_x_lm.rsquared)"
   ]
  },
  {
   "cell_type": "code",
   "execution_count": 77,
   "metadata": {},
   "outputs": [
    {
     "name": "stdout",
     "output_type": "stream",
     "text": [
      "for sales ~ TV + radio:\n",
      "RSS_test: 125.51792036273409\n",
      "RSE_test: 1.841840445320886\n",
      "R^2_test: 0.9005833101920356\n"
     ]
    }
   ],
   "source": [
    "#получение предссказания на тесте\n",
    "y_pred_test = three_x_lm.predict(adv_test_20[['radio', 'TV']])\n",
    "y_test = adv_test_20['sales']\n",
    "\n",
    "#рассчет метрик\n",
    "TSS_test = np.sum((y_test - y_test.mean())**2)\n",
    "RSS_test = np.sum((y_test - y_pred_test)**2)\n",
    "RSE_test = np.sqrt(RSS_test / (adv_test_20.shape[0] - 2 - 1))\n",
    "\n",
    "R_2_test2 = sklearn.metrics.r2_score(y_test, y_pred_test)\n",
    "\n",
    "print('for sales ~ TV + radio:')\n",
    "print(\"RSS_test:\", RSS_test)\n",
    "print(\"RSE_test:\", RSE_test)\n",
    "print(\"R^2_test:\", R_2_test2)"
   ]
  },
  {
   "cell_type": "markdown",
   "metadata": {},
   "source": [
    "# sales ~ TV + radio + newspaper"
   ]
  },
  {
   "cell_type": "code",
   "execution_count": 78,
   "metadata": {},
   "outputs": [
    {
     "name": "stdout",
     "output_type": "stream",
     "text": [
      "RSS: 263.7072834762901\n",
      "RSE: 0.1674130575532674\n",
      "R^2: 0.9042613648908893\n"
     ]
    }
   ],
   "source": [
    "three_x_lm = smf.ols('sales ~ TV + radio + newspaper', adv_train_50).fit()\n",
    "\n",
    "\n",
    "#расчет метрик\n",
    "print(\"RSS:\", np.sum(three_x_lm.resid ** 2))\n",
    "print(\"RSE:\", np.sqrt(np.sum(three_x_lm.resid ** 2)) / (adv_train_50.shape[0] - 2 - 1))\n",
    "print(\"R^2:\", three_x_lm.rsquared)"
   ]
  },
  {
   "cell_type": "code",
   "execution_count": 86,
   "metadata": {},
   "outputs": [
    {
     "name": "stdout",
     "output_type": "stream",
     "text": [
      "for sales ~ TV + radio + newspaper:\n",
      "RSS_test: 286.0152971741764\n",
      "RSE_test: 1.7171520931687978\n",
      "R^2_test: 0.8906321307624936\n"
     ]
    }
   ],
   "source": [
    "#получение предссказания на тесте\n",
    "y_pred_test = three_x_lm.predict(adv_test_50[['radio', 'TV', 'newspaper']])\n",
    "y_test = adv_test_50['sales']\n",
    "\n",
    "#рассчет метрик\n",
    "TSS_test = np.sum((y_test - y_test.mean())**2)\n",
    "RSS_test = np.sum((y_test - y_pred_test)**2)\n",
    "RSE_test = np.sqrt(RSS_test / (adv_test_50.shape[0] - 2 - 1))\n",
    "\n",
    "R_2_test2 = sklearn.metrics.r2_score(y_test, y_pred_test)\n",
    "\n",
    "print('for sales ~ TV + radio + newspaper:')\n",
    "print(\"RSS_test:\", RSS_test)\n",
    "print(\"RSE_test:\", RSE_test)\n",
    "print(\"R^2_test:\", R_2_test2)"
   ]
  },
  {
   "cell_type": "code",
   "execution_count": 80,
   "metadata": {},
   "outputs": [
    {
     "name": "stdout",
     "output_type": "stream",
     "text": [
      "RSS: 347.1097250468102\n",
      "RSE: 0.13599183176626933\n",
      "R^2: 0.9055159502227753\n"
     ]
    }
   ],
   "source": [
    "three_x_lm = smf.ols('sales ~ TV + radio + newspaper', adv_train_70).fit()\n",
    "\n",
    "\n",
    "#расчет метрик\n",
    "print(\"RSS:\", np.sum(three_x_lm.resid ** 2))\n",
    "print(\"RSE:\", np.sqrt(np.sum(three_x_lm.resid ** 2)) / (adv_train_70.shape[0] - 2 - 1))\n",
    "print(\"R^2:\", three_x_lm.rsquared)"
   ]
  },
  {
   "cell_type": "code",
   "execution_count": 85,
   "metadata": {},
   "outputs": [
    {
     "name": "stdout",
     "output_type": "stream",
     "text": [
      "sales ~ TV + radio + newspaper:\n",
      "RSS_test: 207.17073164947735\n",
      "RSE_test: 1.9064559369323264\n",
      "R^2_test: 0.8735434881416676\n"
     ]
    }
   ],
   "source": [
    "#получение предссказания на тесте\n",
    "y_pred_test = three_x_lm.predict(adv_test_30[['radio', 'TV', 'newspaper']])\n",
    "y_test = adv_test_30['sales']\n",
    "\n",
    "#рассчет метрик\n",
    "TSS_test = np.sum((y_test - y_test.mean())**2)\n",
    "RSS_test = np.sum((y_test - y_pred_test)**2)\n",
    "RSE_test = np.sqrt(RSS_test / (adv_test_30.shape[0] - 2 - 1))\n",
    "\n",
    "R_2_test2 = sklearn.metrics.r2_score(y_test, y_pred_test)\n",
    "\n",
    "print('sales ~ TV + radio + newspaper:')\n",
    "print(\"RSS_test:\", RSS_test)\n",
    "print(\"RSE_test:\", RSE_test)\n",
    "print(\"R^2_test:\", R_2_test2)"
   ]
  },
  {
   "cell_type": "code",
   "execution_count": 82,
   "metadata": {},
   "outputs": [
    {
     "name": "stdout",
     "output_type": "stream",
     "text": [
      "RSS: 432.82070769302624\n",
      "RSE: 0.13251174191989148\n",
      "R^2: 0.8957008271017818\n"
     ]
    }
   ],
   "source": [
    "three_x_lm = smf.ols('sales ~ TV + radio + newspaper', adv_train_80).fit()\n",
    "\n",
    "\n",
    "#расчет метрик\n",
    "print(\"RSS:\", np.sum(three_x_lm.resid ** 2))\n",
    "print(\"RSE:\", np.sqrt(np.sum(three_x_lm.resid ** 2)) / (adv_train_80.shape[0] - 2 - 1))\n",
    "print(\"R^2:\", three_x_lm.rsquared)"
   ]
  },
  {
   "cell_type": "code",
   "execution_count": 84,
   "metadata": {},
   "outputs": [
    {
     "name": "stdout",
     "output_type": "stream",
     "text": [
      "for sales ~ TV + radio + newspaper:\n",
      "RSS_test: 126.96389415904423\n",
      "RSE_test: 1.852419120742681\n",
      "R^2_test: 0.8994380241009119\n"
     ]
    }
   ],
   "source": [
    "#получение предссказания на тесте\n",
    "y_pred_test = three_x_lm.predict(adv_test_20[['radio', 'TV', 'newspaper']])\n",
    "y_test = adv_test_20['sales']\n",
    "\n",
    "#рассчет метрик\n",
    "TSS_test = np.sum((y_test - y_test.mean())**2)\n",
    "RSS_test = np.sum((y_test - y_pred_test)**2)\n",
    "RSE_test = np.sqrt(RSS_test / (adv_test_20.shape[0] - 2 - 1))\n",
    "\n",
    "R_2_test2 = sklearn.metrics.r2_score(y_test, y_pred_test)\n",
    "\n",
    "print('for sales ~ TV + radio + newspaper:')\n",
    "print(\"RSS_test:\", RSS_test)\n",
    "print(\"RSE_test:\", RSE_test)\n",
    "print(\"R^2_test:\", R_2_test2)"
   ]
  }
 ],
 "metadata": {
  "kernelspec": {
   "display_name": "Python 3",
   "language": "python",
   "name": "python3"
  },
  "language_info": {
   "codemirror_mode": {
    "name": "ipython",
    "version": 3
   },
   "file_extension": ".py",
   "mimetype": "text/x-python",
   "name": "python",
   "nbconvert_exporter": "python",
   "pygments_lexer": "ipython3",
   "version": "3.7.1"
  }
 },
 "nbformat": 4,
 "nbformat_minor": 2
}
