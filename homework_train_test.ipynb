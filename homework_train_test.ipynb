{
 "cells": [
  {
   "cell_type": "markdown",
   "metadata": {},
   "source": [
    "## Домашняя работа\n",
    "\n",
    "1. Наборы данных вида Transactions (несколько транзакций на одного клиента) трансформировать в таблицу, где cl_id будут уникальными (соответственно 4000 строк в train и 1000 строк в test\n",
    "2. Для каждого cl_id будет уникальное целевое событие target_flag, а также уникальный канал привлечения клиента channel_type (клиент привлекается лишь однажды и с самого начала его записи присваивается значение канала привлечения)\n",
    "3. При агрегации (*pandas.DataFrame.groupby*) по cl_id (или по связке cl_id, channel_type, target_flag) необходимо создавать производные фичи, идеи для таких фичей могут быть следующими:\n",
    "\n",
    "    - общая сумма транзакций по каждой из trx_category\n",
    "    - общая сумма транзакции по основным вылютам (напр. выделить рубли, доллары и евро - предположительно, это будут самые крупные категории)\n",
    "    - общая сумма транзакций по категориям MCC кодов (например, выбрать основные/популярные MCC коды). ВНИМАНИ! Некоторые MCC коды из train могут быть не представлены в test. Про MCC коды в целом: http://www.banki.ru/wikibank/mcc-kod/; Справочник MCC кодов: https://mcc-codes.ru/code; Про некоторые категории кэшбека Росбанка: https://mcc-codes.ru/card/rosbank-sverkh-plus;\n",
    "    - возможные агрегации по времени суток и дням недели - траты в выходные (праздники) или будни, в ночное время или в рабочее и т.д.\n",
    "4. **Обязательная часть**: провести первичный анализ данных - посмотреть распределения признаков, выделить самые популярные MCC, помотреть активность клиентов по дням недели/времени, какие категории транзакции (trx_category) наиболее популярны и т.д. Получить инсайты, которые в дальнейшем помогут вам правильно подготовить фичи\n",
    "5. **Дополнительная часть**: с отобранными фичами и полученными компонентами обучить модель (тип алгоритма на свой вкус, можно начать с линейной) и померить качество на локальном тестовом наборе данных (локальная валидация), который создается в этом ноутбуке. **Метрика оценки качества - ROC AUC**(https://en.wikipedia.org/wiki/Receiver_operating_characteristic)\n",
    "6. Задания принимаются в виде ноутбука с кодов/картинками выполненной обязательной части\n"
   ]
  },
  {
   "cell_type": "code",
   "execution_count": 21,
   "metadata": {},
   "outputs": [],
   "source": [
    "import pandas as pd\n",
    "import numpy as np\n",
    "import matplotlib.pyplot as plt\n",
    "%matplotlib inline\n",
    "import datetime \n",
    "from datetime import timedelta\n",
    "import sqlite3\n",
    "import seaborn as sns\n",
    "import xgboost\n",
    "from sklearn.metrics import roc_auc_score, roc_curve\n",
    "from sklearn.model_selection import GridSearchCV\n",
    "from sklearn.feature_selection import SelectFromModel"
   ]
  },
  {
   "cell_type": "code",
   "execution_count": 2,
   "metadata": {},
   "outputs": [
    {
     "data": {
      "text/html": [
       "<div>\n",
       "<style scoped>\n",
       "    .dataframe tbody tr th:only-of-type {\n",
       "        vertical-align: middle;\n",
       "    }\n",
       "\n",
       "    .dataframe tbody tr th {\n",
       "        vertical-align: top;\n",
       "    }\n",
       "\n",
       "    .dataframe thead th {\n",
       "        text-align: right;\n",
       "    }\n",
       "</style>\n",
       "<table border=\"1\" class=\"dataframe\">\n",
       "  <thead>\n",
       "    <tr style=\"text-align: right;\">\n",
       "      <th></th>\n",
       "      <th>PERIOD</th>\n",
       "      <th>cl_id</th>\n",
       "      <th>MCC</th>\n",
       "      <th>channel_type</th>\n",
       "      <th>currency</th>\n",
       "      <th>TRDATETIME</th>\n",
       "      <th>amount</th>\n",
       "      <th>trx_category</th>\n",
       "      <th>target_flag</th>\n",
       "      <th>target_sum</th>\n",
       "    </tr>\n",
       "  </thead>\n",
       "  <tbody>\n",
       "    <tr>\n",
       "      <th>0</th>\n",
       "      <td>01/10/2017</td>\n",
       "      <td>0</td>\n",
       "      <td>5200</td>\n",
       "      <td>NaN</td>\n",
       "      <td>810</td>\n",
       "      <td>21OCT17:00:00:00</td>\n",
       "      <td>5023.0</td>\n",
       "      <td>POS</td>\n",
       "      <td>0</td>\n",
       "      <td>0.0</td>\n",
       "    </tr>\n",
       "    <tr>\n",
       "      <th>1</th>\n",
       "      <td>01/10/2017</td>\n",
       "      <td>0</td>\n",
       "      <td>6011</td>\n",
       "      <td>NaN</td>\n",
       "      <td>810</td>\n",
       "      <td>12OCT17:12:24:07</td>\n",
       "      <td>20000.0</td>\n",
       "      <td>DEPOSIT</td>\n",
       "      <td>0</td>\n",
       "      <td>0.0</td>\n",
       "    </tr>\n",
       "    <tr>\n",
       "      <th>2</th>\n",
       "      <td>01/12/2017</td>\n",
       "      <td>0</td>\n",
       "      <td>5921</td>\n",
       "      <td>NaN</td>\n",
       "      <td>810</td>\n",
       "      <td>05DEC17:00:00:00</td>\n",
       "      <td>767.0</td>\n",
       "      <td>POS</td>\n",
       "      <td>0</td>\n",
       "      <td>0.0</td>\n",
       "    </tr>\n",
       "    <tr>\n",
       "      <th>3</th>\n",
       "      <td>01/10/2017</td>\n",
       "      <td>0</td>\n",
       "      <td>5411</td>\n",
       "      <td>NaN</td>\n",
       "      <td>810</td>\n",
       "      <td>21OCT17:00:00:00</td>\n",
       "      <td>2031.0</td>\n",
       "      <td>POS</td>\n",
       "      <td>0</td>\n",
       "      <td>0.0</td>\n",
       "    </tr>\n",
       "    <tr>\n",
       "      <th>4</th>\n",
       "      <td>01/10/2017</td>\n",
       "      <td>0</td>\n",
       "      <td>6012</td>\n",
       "      <td>NaN</td>\n",
       "      <td>810</td>\n",
       "      <td>24OCT17:13:14:24</td>\n",
       "      <td>36562.0</td>\n",
       "      <td>C2C_OUT</td>\n",
       "      <td>0</td>\n",
       "      <td>0.0</td>\n",
       "    </tr>\n",
       "  </tbody>\n",
       "</table>\n",
       "</div>"
      ],
      "text/plain": [
       "       PERIOD  cl_id   MCC channel_type  currency        TRDATETIME   amount  \\\n",
       "0  01/10/2017      0  5200          NaN       810  21OCT17:00:00:00   5023.0   \n",
       "1  01/10/2017      0  6011          NaN       810  12OCT17:12:24:07  20000.0   \n",
       "2  01/12/2017      0  5921          NaN       810  05DEC17:00:00:00    767.0   \n",
       "3  01/10/2017      0  5411          NaN       810  21OCT17:00:00:00   2031.0   \n",
       "4  01/10/2017      0  6012          NaN       810  24OCT17:13:14:24  36562.0   \n",
       "\n",
       "  trx_category  target_flag  target_sum  \n",
       "0          POS            0         0.0  \n",
       "1      DEPOSIT            0         0.0  \n",
       "2          POS            0         0.0  \n",
       "3          POS            0         0.0  \n",
       "4      C2C_OUT            0         0.0  "
      ]
     },
     "execution_count": 2,
     "metadata": {},
     "output_type": "execute_result"
    }
   ],
   "source": [
    "raw_df = pd.read_csv('rosbank_train.csv')\n",
    "raw_df.head(5)"
   ]
  },
  {
   "cell_type": "code",
   "execution_count": 3,
   "metadata": {},
   "outputs": [],
   "source": [
    "conn = sqlite3.connect('transactions.db')"
   ]
  },
  {
   "cell_type": "code",
   "execution_count": 4,
   "metadata": {},
   "outputs": [],
   "source": [
    "datamart_check = pd.io.sql.read_sql(\"\"\"\n",
    "    select\n",
    "        cl_id,\n",
    "        target_flag,\n",
    "        channel_type,\n",
    "        currency,\n",
    "        sum(case when MCC = 5411 then amount else 0 end) as MCC_5411,\n",
    "        sum(case when MCC = 6011 then amount else 0 end) as MCC_6011,\n",
    "        sum(case when MCC = 5814 then amount else 0 end) as MCC_5814,\n",
    "        sum(case when MCC = 5812 then amount else 0 end) as MCC_5812,\n",
    "        sum(case when MCC = 5499 then amount else 0 end) as MCC_5499\n",
    "    from transactions_raw\n",
    "    group by 1, 2\n",
    "    order by 1\n",
    "    \"\"\", conn)\n",
    "\n",
    "#уникальное целевое событие target_flag по клиенту, а также уникальный канал привлечения клиента channel_type добавила сразу при агрегации"
   ]
  },
  {
   "cell_type": "code",
   "execution_count": 5,
   "metadata": {},
   "outputs": [
    {
     "data": {
      "text/html": [
       "<div>\n",
       "<style scoped>\n",
       "    .dataframe tbody tr th:only-of-type {\n",
       "        vertical-align: middle;\n",
       "    }\n",
       "\n",
       "    .dataframe tbody tr th {\n",
       "        vertical-align: top;\n",
       "    }\n",
       "\n",
       "    .dataframe thead th {\n",
       "        text-align: right;\n",
       "    }\n",
       "</style>\n",
       "<table border=\"1\" class=\"dataframe\">\n",
       "  <thead>\n",
       "    <tr style=\"text-align: right;\">\n",
       "      <th></th>\n",
       "      <th>cl_id</th>\n",
       "      <th>target_flag</th>\n",
       "      <th>channel_type</th>\n",
       "      <th>currency</th>\n",
       "      <th>MCC_5411</th>\n",
       "      <th>MCC_6011</th>\n",
       "      <th>MCC_5814</th>\n",
       "      <th>MCC_5812</th>\n",
       "      <th>MCC_5499</th>\n",
       "      <th>MCC_avg</th>\n",
       "    </tr>\n",
       "  </thead>\n",
       "  <tbody>\n",
       "    <tr>\n",
       "      <th>0</th>\n",
       "      <td>0</td>\n",
       "      <td>0</td>\n",
       "      <td>None</td>\n",
       "      <td>810</td>\n",
       "      <td>2031.00</td>\n",
       "      <td>20000.0</td>\n",
       "      <td>0.00</td>\n",
       "      <td>0.00</td>\n",
       "      <td>0.00</td>\n",
       "      <td>22031.00</td>\n",
       "    </tr>\n",
       "    <tr>\n",
       "      <th>1</th>\n",
       "      <td>1</td>\n",
       "      <td>0</td>\n",
       "      <td>None</td>\n",
       "      <td>810</td>\n",
       "      <td>14629.46</td>\n",
       "      <td>145000.0</td>\n",
       "      <td>82441.17</td>\n",
       "      <td>3180.01</td>\n",
       "      <td>492.80</td>\n",
       "      <td>328184.61</td>\n",
       "    </tr>\n",
       "    <tr>\n",
       "      <th>2</th>\n",
       "      <td>5</td>\n",
       "      <td>1</td>\n",
       "      <td>None</td>\n",
       "      <td>810</td>\n",
       "      <td>44925.40</td>\n",
       "      <td>208000.0</td>\n",
       "      <td>247.00</td>\n",
       "      <td>3309.00</td>\n",
       "      <td>7196.70</td>\n",
       "      <td>263925.10</td>\n",
       "    </tr>\n",
       "    <tr>\n",
       "      <th>3</th>\n",
       "      <td>9</td>\n",
       "      <td>0</td>\n",
       "      <td>None</td>\n",
       "      <td>810</td>\n",
       "      <td>39.00</td>\n",
       "      <td>540000.0</td>\n",
       "      <td>0.00</td>\n",
       "      <td>0.00</td>\n",
       "      <td>0.00</td>\n",
       "      <td>540039.00</td>\n",
       "    </tr>\n",
       "    <tr>\n",
       "      <th>4</th>\n",
       "      <td>10</td>\n",
       "      <td>0</td>\n",
       "      <td>None</td>\n",
       "      <td>810</td>\n",
       "      <td>53920.36</td>\n",
       "      <td>854000.0</td>\n",
       "      <td>2010.00</td>\n",
       "      <td>319.00</td>\n",
       "      <td>13225.02</td>\n",
       "      <td>925484.38</td>\n",
       "    </tr>\n",
       "  </tbody>\n",
       "</table>\n",
       "</div>"
      ],
      "text/plain": [
       "   cl_id  target_flag channel_type  currency  MCC_5411  MCC_6011  MCC_5814  \\\n",
       "0      0            0         None       810   2031.00   20000.0      0.00   \n",
       "1      1            0         None       810  14629.46  145000.0  82441.17   \n",
       "2      5            1         None       810  44925.40  208000.0    247.00   \n",
       "3      9            0         None       810     39.00  540000.0      0.00   \n",
       "4     10            0         None       810  53920.36  854000.0   2010.00   \n",
       "\n",
       "   MCC_5812  MCC_5499    MCC_avg  \n",
       "0      0.00      0.00   22031.00  \n",
       "1   3180.01    492.80  328184.61  \n",
       "2   3309.00   7196.70  263925.10  \n",
       "3      0.00      0.00  540039.00  \n",
       "4    319.00  13225.02  925484.38  "
      ]
     },
     "execution_count": 5,
     "metadata": {},
     "output_type": "execute_result"
    }
   ],
   "source": [
    "#я тут очень страшное навертела, полагаю, что можно было бы проще, буду очень рада, если вы поможете понять как это страшное оптимизировать\n",
    "datamart_check['index'] = datamart_check.index\n",
    "MCC_avg1 = (datamart_check['MCC_5411'] + datamart_check['MCC_6011'] + datamart_check['MCC_5814'] + datamart_check['MCC_5814'] + datamart_check['MCC_5812'] + datamart_check['MCC_5499'])\n",
    "MCC_avg2 = pd.DataFrame(MCC_avg1, columns=['MCC_avg'])\n",
    "MCC_avg2['index'] = MCC_avg2.index\n",
    "datamart_check1 = pd.merge(datamart_check, MCC_avg2, on='index', how='left')\n",
    "del datamart_check1['index']\n",
    "datamart_check1.head()\n",
    "\n",
    "#решила общую сумму транзакций по категориям MCC кодов допилить отдельной колонкой до разбиения таблицы на train/test"
   ]
  },
  {
   "cell_type": "code",
   "execution_count": 6,
   "metadata": {},
   "outputs": [
    {
     "name": "stdout",
     "output_type": "stream",
     "text": [
      "Total clients:  5000\n"
     ]
    }
   ],
   "source": [
    "print(\"Total clients: \", len(datamart_check1.cl_id.unique()))"
   ]
  },
  {
   "cell_type": "code",
   "execution_count": 7,
   "metadata": {},
   "outputs": [
    {
     "data": {
      "text/html": [
       "<div>\n",
       "<style scoped>\n",
       "    .dataframe tbody tr th:only-of-type {\n",
       "        vertical-align: middle;\n",
       "    }\n",
       "\n",
       "    .dataframe tbody tr th {\n",
       "        vertical-align: top;\n",
       "    }\n",
       "\n",
       "    .dataframe thead th {\n",
       "        text-align: right;\n",
       "    }\n",
       "</style>\n",
       "<table border=\"1\" class=\"dataframe\">\n",
       "  <thead>\n",
       "    <tr style=\"text-align: right;\">\n",
       "      <th></th>\n",
       "      <th>cl_id</th>\n",
       "      <th>target_flag</th>\n",
       "      <th>channel_type</th>\n",
       "      <th>currency</th>\n",
       "      <th>MCC_5411</th>\n",
       "      <th>MCC_6011</th>\n",
       "      <th>MCC_5814</th>\n",
       "      <th>MCC_5812</th>\n",
       "      <th>MCC_5499</th>\n",
       "      <th>MCC_avg</th>\n",
       "    </tr>\n",
       "  </thead>\n",
       "  <tbody>\n",
       "    <tr>\n",
       "      <th>1025</th>\n",
       "      <td>2106</td>\n",
       "      <td>0</td>\n",
       "      <td>type2</td>\n",
       "      <td>810</td>\n",
       "      <td>36537.07</td>\n",
       "      <td>0.0</td>\n",
       "      <td>5069.00</td>\n",
       "      <td>1210.00</td>\n",
       "      <td>0.00</td>\n",
       "      <td>47885.07</td>\n",
       "    </tr>\n",
       "    <tr>\n",
       "      <th>2984</th>\n",
       "      <td>6079</td>\n",
       "      <td>1</td>\n",
       "      <td>type1</td>\n",
       "      <td>810</td>\n",
       "      <td>12607.12</td>\n",
       "      <td>31200.0</td>\n",
       "      <td>260.00</td>\n",
       "      <td>0.00</td>\n",
       "      <td>269.00</td>\n",
       "      <td>44596.12</td>\n",
       "    </tr>\n",
       "    <tr>\n",
       "      <th>4685</th>\n",
       "      <td>9609</td>\n",
       "      <td>0</td>\n",
       "      <td>type1</td>\n",
       "      <td>810</td>\n",
       "      <td>19927.50</td>\n",
       "      <td>72200.0</td>\n",
       "      <td>1604.00</td>\n",
       "      <td>3090.00</td>\n",
       "      <td>1413.82</td>\n",
       "      <td>99839.32</td>\n",
       "    </tr>\n",
       "    <tr>\n",
       "      <th>1107</th>\n",
       "      <td>2279</td>\n",
       "      <td>0</td>\n",
       "      <td>type2</td>\n",
       "      <td>810</td>\n",
       "      <td>55434.59</td>\n",
       "      <td>33000.0</td>\n",
       "      <td>5020.95</td>\n",
       "      <td>25594.34</td>\n",
       "      <td>0.00</td>\n",
       "      <td>124070.83</td>\n",
       "    </tr>\n",
       "    <tr>\n",
       "      <th>201</th>\n",
       "      <td>393</td>\n",
       "      <td>1</td>\n",
       "      <td>type2</td>\n",
       "      <td>810</td>\n",
       "      <td>33969.67</td>\n",
       "      <td>0.0</td>\n",
       "      <td>13119.81</td>\n",
       "      <td>23293.30</td>\n",
       "      <td>8445.96</td>\n",
       "      <td>91948.55</td>\n",
       "    </tr>\n",
       "  </tbody>\n",
       "</table>\n",
       "</div>"
      ],
      "text/plain": [
       "      cl_id  target_flag channel_type  currency  MCC_5411  MCC_6011  MCC_5814  \\\n",
       "1025   2106            0        type2       810  36537.07       0.0   5069.00   \n",
       "2984   6079            1        type1       810  12607.12   31200.0    260.00   \n",
       "4685   9609            0        type1       810  19927.50   72200.0   1604.00   \n",
       "1107   2279            0        type2       810  55434.59   33000.0   5020.95   \n",
       "201     393            1        type2       810  33969.67       0.0  13119.81   \n",
       "\n",
       "      MCC_5812  MCC_5499    MCC_avg  \n",
       "1025   1210.00      0.00   47885.07  \n",
       "2984      0.00    269.00   44596.12  \n",
       "4685   3090.00   1413.82   99839.32  \n",
       "1107  25594.34      0.00  124070.83  \n",
       "201   23293.30   8445.96   91948.55  "
      ]
     },
     "execution_count": 7,
     "metadata": {},
     "output_type": "execute_result"
    }
   ],
   "source": [
    "#test_data\n",
    "cl_ids_test = datamart_check1.sample(1000)\n",
    "cl_ids_test.head()\n"
   ]
  },
  {
   "cell_type": "code",
   "execution_count": 8,
   "metadata": {},
   "outputs": [
    {
     "data": {
      "text/html": [
       "<div>\n",
       "<style scoped>\n",
       "    .dataframe tbody tr th:only-of-type {\n",
       "        vertical-align: middle;\n",
       "    }\n",
       "\n",
       "    .dataframe tbody tr th {\n",
       "        vertical-align: top;\n",
       "    }\n",
       "\n",
       "    .dataframe thead th {\n",
       "        text-align: right;\n",
       "    }\n",
       "</style>\n",
       "<table border=\"1\" class=\"dataframe\">\n",
       "  <thead>\n",
       "    <tr style=\"text-align: right;\">\n",
       "      <th></th>\n",
       "      <th>cl_id</th>\n",
       "      <th>target_flag</th>\n",
       "      <th>channel_type</th>\n",
       "      <th>currency</th>\n",
       "      <th>MCC_5411</th>\n",
       "      <th>MCC_6011</th>\n",
       "      <th>MCC_5814</th>\n",
       "      <th>MCC_5812</th>\n",
       "      <th>MCC_5499</th>\n",
       "      <th>MCC_avg</th>\n",
       "    </tr>\n",
       "  </thead>\n",
       "  <tbody>\n",
       "    <tr>\n",
       "      <th>3071</th>\n",
       "      <td>6272</td>\n",
       "      <td>0</td>\n",
       "      <td>type1</td>\n",
       "      <td>810</td>\n",
       "      <td>19641.90</td>\n",
       "      <td>196500.0</td>\n",
       "      <td>1017.0</td>\n",
       "      <td>0.0</td>\n",
       "      <td>0.00</td>\n",
       "      <td>218175.90</td>\n",
       "    </tr>\n",
       "    <tr>\n",
       "      <th>899</th>\n",
       "      <td>1849</td>\n",
       "      <td>1</td>\n",
       "      <td>type2</td>\n",
       "      <td>810</td>\n",
       "      <td>71252.00</td>\n",
       "      <td>113000.0</td>\n",
       "      <td>11759.0</td>\n",
       "      <td>9923.0</td>\n",
       "      <td>0.00</td>\n",
       "      <td>217693.00</td>\n",
       "    </tr>\n",
       "    <tr>\n",
       "      <th>803</th>\n",
       "      <td>1628</td>\n",
       "      <td>1</td>\n",
       "      <td>type2</td>\n",
       "      <td>810</td>\n",
       "      <td>20182.06</td>\n",
       "      <td>309000.0</td>\n",
       "      <td>2490.0</td>\n",
       "      <td>1871.0</td>\n",
       "      <td>4523.40</td>\n",
       "      <td>340556.46</td>\n",
       "    </tr>\n",
       "    <tr>\n",
       "      <th>2529</th>\n",
       "      <td>5153</td>\n",
       "      <td>1</td>\n",
       "      <td>type1</td>\n",
       "      <td>810</td>\n",
       "      <td>49807.72</td>\n",
       "      <td>810140.0</td>\n",
       "      <td>14062.0</td>\n",
       "      <td>53163.0</td>\n",
       "      <td>0.00</td>\n",
       "      <td>941234.72</td>\n",
       "    </tr>\n",
       "    <tr>\n",
       "      <th>3265</th>\n",
       "      <td>6682</td>\n",
       "      <td>1</td>\n",
       "      <td>type1</td>\n",
       "      <td>810</td>\n",
       "      <td>6585.00</td>\n",
       "      <td>50000.0</td>\n",
       "      <td>1950.0</td>\n",
       "      <td>1365.0</td>\n",
       "      <td>6438.71</td>\n",
       "      <td>68288.71</td>\n",
       "    </tr>\n",
       "  </tbody>\n",
       "</table>\n",
       "</div>"
      ],
      "text/plain": [
       "      cl_id  target_flag channel_type  currency  MCC_5411  MCC_6011  MCC_5814  \\\n",
       "3071   6272            0        type1       810  19641.90  196500.0    1017.0   \n",
       "899    1849            1        type2       810  71252.00  113000.0   11759.0   \n",
       "803    1628            1        type2       810  20182.06  309000.0    2490.0   \n",
       "2529   5153            1        type1       810  49807.72  810140.0   14062.0   \n",
       "3265   6682            1        type1       810   6585.00   50000.0    1950.0   \n",
       "\n",
       "      MCC_5812  MCC_5499    MCC_avg  \n",
       "3071       0.0      0.00  218175.90  \n",
       "899     9923.0      0.00  217693.00  \n",
       "803     1871.0   4523.40  340556.46  \n",
       "2529   53163.0      0.00  941234.72  \n",
       "3265    1365.0   6438.71   68288.71  "
      ]
     },
     "execution_count": 8,
     "metadata": {},
     "output_type": "execute_result"
    }
   ],
   "source": [
    "#train_data\n",
    "cl_ids_train = datamart_check1.sample(4000)\n",
    "cl_ids_train.head()"
   ]
  },
  {
   "cell_type": "code",
   "execution_count": 9,
   "metadata": {},
   "outputs": [
    {
     "data": {
      "text/plain": [
       "cl_id           117\n",
       "target_flag     117\n",
       "channel_type    117\n",
       "currency        117\n",
       "MCC_5411        117\n",
       "MCC_6011        117\n",
       "MCC_5814        117\n",
       "MCC_5812        117\n",
       "MCC_5499        117\n",
       "MCC_avg         117\n",
       "dtype: int64"
      ]
     },
     "execution_count": 9,
     "metadata": {},
     "output_type": "execute_result"
    }
   ],
   "source": [
    "#смотрим клиентов, у которых не было ни одной транзакции по указанным MCC\n",
    "datamart_check1[datamart_check1['MCC_avg'] == 0.0].sort_values('cl_id', ascending=False).count()"
   ]
  },
  {
   "cell_type": "code",
   "execution_count": 10,
   "metadata": {},
   "outputs": [
    {
     "data": {
      "text/html": [
       "<div>\n",
       "<style scoped>\n",
       "    .dataframe tbody tr th:only-of-type {\n",
       "        vertical-align: middle;\n",
       "    }\n",
       "\n",
       "    .dataframe tbody tr th {\n",
       "        vertical-align: top;\n",
       "    }\n",
       "\n",
       "    .dataframe thead th {\n",
       "        text-align: right;\n",
       "    }\n",
       "</style>\n",
       "<table border=\"1\" class=\"dataframe\">\n",
       "  <thead>\n",
       "    <tr style=\"text-align: right;\">\n",
       "      <th></th>\n",
       "      <th>PERIOD</th>\n",
       "      <th>cl_id</th>\n",
       "      <th>MCC</th>\n",
       "      <th>channel_type</th>\n",
       "      <th>currency</th>\n",
       "      <th>TRDATETIME</th>\n",
       "      <th>amount</th>\n",
       "      <th>trx_category</th>\n",
       "      <th>target_flag</th>\n",
       "      <th>target_sum</th>\n",
       "    </tr>\n",
       "  </thead>\n",
       "  <tbody>\n",
       "    <tr>\n",
       "      <th>0</th>\n",
       "      <td>01/10/2017</td>\n",
       "      <td>0</td>\n",
       "      <td>5200</td>\n",
       "      <td>NaN</td>\n",
       "      <td>810</td>\n",
       "      <td>21OCT17:00:00:00</td>\n",
       "      <td>5023.0</td>\n",
       "      <td>POS</td>\n",
       "      <td>0</td>\n",
       "      <td>0.0</td>\n",
       "    </tr>\n",
       "    <tr>\n",
       "      <th>1</th>\n",
       "      <td>01/10/2017</td>\n",
       "      <td>0</td>\n",
       "      <td>6011</td>\n",
       "      <td>NaN</td>\n",
       "      <td>810</td>\n",
       "      <td>12OCT17:12:24:07</td>\n",
       "      <td>20000.0</td>\n",
       "      <td>DEPOSIT</td>\n",
       "      <td>0</td>\n",
       "      <td>0.0</td>\n",
       "    </tr>\n",
       "    <tr>\n",
       "      <th>2</th>\n",
       "      <td>01/12/2017</td>\n",
       "      <td>0</td>\n",
       "      <td>5921</td>\n",
       "      <td>NaN</td>\n",
       "      <td>810</td>\n",
       "      <td>05DEC17:00:00:00</td>\n",
       "      <td>767.0</td>\n",
       "      <td>POS</td>\n",
       "      <td>0</td>\n",
       "      <td>0.0</td>\n",
       "    </tr>\n",
       "    <tr>\n",
       "      <th>3</th>\n",
       "      <td>01/10/2017</td>\n",
       "      <td>0</td>\n",
       "      <td>5411</td>\n",
       "      <td>NaN</td>\n",
       "      <td>810</td>\n",
       "      <td>21OCT17:00:00:00</td>\n",
       "      <td>2031.0</td>\n",
       "      <td>POS</td>\n",
       "      <td>0</td>\n",
       "      <td>0.0</td>\n",
       "    </tr>\n",
       "    <tr>\n",
       "      <th>4</th>\n",
       "      <td>01/10/2017</td>\n",
       "      <td>0</td>\n",
       "      <td>6012</td>\n",
       "      <td>NaN</td>\n",
       "      <td>810</td>\n",
       "      <td>24OCT17:13:14:24</td>\n",
       "      <td>36562.0</td>\n",
       "      <td>C2C_OUT</td>\n",
       "      <td>0</td>\n",
       "      <td>0.0</td>\n",
       "    </tr>\n",
       "  </tbody>\n",
       "</table>\n",
       "</div>"
      ],
      "text/plain": [
       "       PERIOD  cl_id   MCC channel_type  currency        TRDATETIME   amount  \\\n",
       "0  01/10/2017      0  5200          NaN       810  21OCT17:00:00:00   5023.0   \n",
       "1  01/10/2017      0  6011          NaN       810  12OCT17:12:24:07  20000.0   \n",
       "2  01/12/2017      0  5921          NaN       810  05DEC17:00:00:00    767.0   \n",
       "3  01/10/2017      0  5411          NaN       810  21OCT17:00:00:00   2031.0   \n",
       "4  01/10/2017      0  6012          NaN       810  24OCT17:13:14:24  36562.0   \n",
       "\n",
       "  trx_category  target_flag  target_sum  \n",
       "0          POS            0         0.0  \n",
       "1      DEPOSIT            0         0.0  \n",
       "2          POS            0         0.0  \n",
       "3          POS            0         0.0  \n",
       "4      C2C_OUT            0         0.0  "
      ]
     },
     "execution_count": 10,
     "metadata": {},
     "output_type": "execute_result"
    }
   ],
   "source": [
    "raw_df.head(5)"
   ]
  },
  {
   "cell_type": "code",
   "execution_count": 11,
   "metadata": {},
   "outputs": [
    {
     "data": {
      "text/plain": [
       "5411    121640\n",
       "6011     54382\n",
       "5814     41351\n",
       "5812     30027\n",
       "5499     27237\n",
       "Name: MCC, dtype: int64"
      ]
     },
     "execution_count": 11,
     "metadata": {},
     "output_type": "execute_result"
    }
   ],
   "source": [
    "#список самых популярных MCC и количество транзакций по ним\n",
    "raw_df['MCC'].value_counts().head()"
   ]
  },
  {
   "cell_type": "code",
   "execution_count": 12,
   "metadata": {},
   "outputs": [
    {
     "data": {
      "text/plain": [
       "810    477644\n",
       "978      5536\n",
       "840      1921\n",
       "Name: currency, dtype: int64"
      ]
     },
     "execution_count": 12,
     "metadata": {},
     "output_type": "execute_result"
    }
   ],
   "source": [
    "#общая сумма транзакции по основным вылютам \n",
    "raw_df['currency'].value_counts().head(3)"
   ]
  },
  {
   "cell_type": "code",
   "execution_count": 13,
   "metadata": {},
   "outputs": [
    {
     "data": {
      "text/plain": [
       "POS               416425\n",
       "DEPOSIT            21216\n",
       "WD_ATM_ROS         19104\n",
       "WD_ATM_PARTNER      9948\n",
       "C2C_IN              7306\n",
       "WD_ATM_OTHER        7140\n",
       "C2C_OUT             5456\n",
       "BACK_TRX            2687\n",
       "CAT                 1197\n",
       "CASH_ADV              34\n",
       "Name: trx_category, dtype: int64"
      ]
     },
     "execution_count": 13,
     "metadata": {},
     "output_type": "execute_result"
    }
   ],
   "source": [
    "#смотрим по какой из катерий чаще всего проходят транзакции\n",
    "raw_df['trx_category'].value_counts()"
   ]
  },
  {
   "cell_type": "code",
   "execution_count": 14,
   "metadata": {},
   "outputs": [
    {
     "data": {
      "text/plain": [
       "trx_category\n",
       "CASH_ADV          912824.94\n",
       "CAT             22602859.61\n",
       "BACK_TRX        24619173.63\n",
       "WD_ATM_OTHER    74780620.98\n",
       "C2C_OUT         88074878.79\n",
       "Name: amount, dtype: float64"
      ]
     },
     "execution_count": 14,
     "metadata": {},
     "output_type": "execute_result"
    }
   ],
   "source": [
    "#сумма всех транзакций по trx_category\n",
    "a = raw_df.groupby('trx_category').sum().sort_values('amount', ascending=True)\n",
    "a['amount'].head()"
   ]
  },
  {
   "cell_type": "code",
   "execution_count": 15,
   "metadata": {},
   "outputs": [],
   "source": [
    "raw_df['TRDATETIME'] =  pd.to_datetime(raw_df['TRDATETIME'], format='%d%b%y:%H:%M:%S')"
   ]
  },
  {
   "cell_type": "code",
   "execution_count": 41,
   "metadata": {},
   "outputs": [
    {
     "data": {
      "text/plain": [
       "2017-06-23    1971\n",
       "2017-07-14    1879\n",
       "2016-12-30    1845\n",
       "2017-07-15    1843\n",
       "2017-07-07    1840\n",
       "Name: TRDATETIME, dtype: int64"
      ]
     },
     "execution_count": 41,
     "metadata": {},
     "output_type": "execute_result"
    }
   ],
   "source": [
    "#самые нагруженные дни по транзакциям ж датасете \n",
    "raw_df['TRDATETIME'].value_counts().head() "
   ]
  },
  {
   "cell_type": "code",
   "execution_count": 16,
   "metadata": {},
   "outputs": [
    {
     "data": {
      "text/html": [
       "<div>\n",
       "<style scoped>\n",
       "    .dataframe tbody tr th:only-of-type {\n",
       "        vertical-align: middle;\n",
       "    }\n",
       "\n",
       "    .dataframe tbody tr th {\n",
       "        vertical-align: top;\n",
       "    }\n",
       "\n",
       "    .dataframe thead th {\n",
       "        text-align: right;\n",
       "    }\n",
       "</style>\n",
       "<table border=\"1\" class=\"dataframe\">\n",
       "  <thead>\n",
       "    <tr style=\"text-align: right;\">\n",
       "      <th></th>\n",
       "      <th>cl_id</th>\n",
       "      <th>target_flag</th>\n",
       "      <th>currency</th>\n",
       "      <th>MCC_5411</th>\n",
       "      <th>MCC_6011</th>\n",
       "      <th>MCC_5814</th>\n",
       "      <th>MCC_5812</th>\n",
       "      <th>MCC_5499</th>\n",
       "      <th>MCC_avg</th>\n",
       "    </tr>\n",
       "  </thead>\n",
       "  <tbody>\n",
       "    <tr>\n",
       "      <th>cl_id</th>\n",
       "      <td>1.000000</td>\n",
       "      <td>-0.400494</td>\n",
       "      <td>0.015814</td>\n",
       "      <td>-0.037715</td>\n",
       "      <td>-0.021311</td>\n",
       "      <td>-0.188151</td>\n",
       "      <td>-0.001663</td>\n",
       "      <td>-0.026173</td>\n",
       "      <td>-0.025536</td>\n",
       "    </tr>\n",
       "    <tr>\n",
       "      <th>target_flag</th>\n",
       "      <td>-0.400494</td>\n",
       "      <td>1.000000</td>\n",
       "      <td>-0.029074</td>\n",
       "      <td>0.100290</td>\n",
       "      <td>0.032425</td>\n",
       "      <td>0.173672</td>\n",
       "      <td>0.032595</td>\n",
       "      <td>0.039209</td>\n",
       "      <td>0.047766</td>\n",
       "    </tr>\n",
       "    <tr>\n",
       "      <th>currency</th>\n",
       "      <td>0.015814</td>\n",
       "      <td>-0.029074</td>\n",
       "      <td>1.000000</td>\n",
       "      <td>-0.017305</td>\n",
       "      <td>-0.025026</td>\n",
       "      <td>-0.003528</td>\n",
       "      <td>-0.006039</td>\n",
       "      <td>0.039246</td>\n",
       "      <td>-0.022305</td>\n",
       "    </tr>\n",
       "    <tr>\n",
       "      <th>MCC_5411</th>\n",
       "      <td>-0.037715</td>\n",
       "      <td>0.100290</td>\n",
       "      <td>-0.017305</td>\n",
       "      <td>1.000000</td>\n",
       "      <td>0.000007</td>\n",
       "      <td>0.226903</td>\n",
       "      <td>0.140154</td>\n",
       "      <td>0.069720</td>\n",
       "      <td>0.115325</td>\n",
       "    </tr>\n",
       "    <tr>\n",
       "      <th>MCC_6011</th>\n",
       "      <td>-0.021311</td>\n",
       "      <td>0.032425</td>\n",
       "      <td>-0.025026</td>\n",
       "      <td>0.000007</td>\n",
       "      <td>1.000000</td>\n",
       "      <td>0.033546</td>\n",
       "      <td>0.468753</td>\n",
       "      <td>0.049915</td>\n",
       "      <td>0.963107</td>\n",
       "    </tr>\n",
       "    <tr>\n",
       "      <th>MCC_5814</th>\n",
       "      <td>-0.188151</td>\n",
       "      <td>0.173672</td>\n",
       "      <td>-0.003528</td>\n",
       "      <td>0.226903</td>\n",
       "      <td>0.033546</td>\n",
       "      <td>1.000000</td>\n",
       "      <td>0.025459</td>\n",
       "      <td>-0.007382</td>\n",
       "      <td>0.069990</td>\n",
       "    </tr>\n",
       "    <tr>\n",
       "      <th>MCC_5812</th>\n",
       "      <td>-0.001663</td>\n",
       "      <td>0.032595</td>\n",
       "      <td>-0.006039</td>\n",
       "      <td>0.140154</td>\n",
       "      <td>0.468753</td>\n",
       "      <td>0.025459</td>\n",
       "      <td>1.000000</td>\n",
       "      <td>0.153001</td>\n",
       "      <td>0.676565</td>\n",
       "    </tr>\n",
       "    <tr>\n",
       "      <th>MCC_5499</th>\n",
       "      <td>-0.026173</td>\n",
       "      <td>0.039209</td>\n",
       "      <td>0.039246</td>\n",
       "      <td>0.069720</td>\n",
       "      <td>0.049915</td>\n",
       "      <td>-0.007382</td>\n",
       "      <td>0.153001</td>\n",
       "      <td>1.000000</td>\n",
       "      <td>0.125598</td>\n",
       "    </tr>\n",
       "    <tr>\n",
       "      <th>MCC_avg</th>\n",
       "      <td>-0.025536</td>\n",
       "      <td>0.047766</td>\n",
       "      <td>-0.022305</td>\n",
       "      <td>0.115325</td>\n",
       "      <td>0.963107</td>\n",
       "      <td>0.069990</td>\n",
       "      <td>0.676565</td>\n",
       "      <td>0.125598</td>\n",
       "      <td>1.000000</td>\n",
       "    </tr>\n",
       "  </tbody>\n",
       "</table>\n",
       "</div>"
      ],
      "text/plain": [
       "                cl_id  target_flag  currency  MCC_5411  MCC_6011  MCC_5814  \\\n",
       "cl_id        1.000000    -0.400494  0.015814 -0.037715 -0.021311 -0.188151   \n",
       "target_flag -0.400494     1.000000 -0.029074  0.100290  0.032425  0.173672   \n",
       "currency     0.015814    -0.029074  1.000000 -0.017305 -0.025026 -0.003528   \n",
       "MCC_5411    -0.037715     0.100290 -0.017305  1.000000  0.000007  0.226903   \n",
       "MCC_6011    -0.021311     0.032425 -0.025026  0.000007  1.000000  0.033546   \n",
       "MCC_5814    -0.188151     0.173672 -0.003528  0.226903  0.033546  1.000000   \n",
       "MCC_5812    -0.001663     0.032595 -0.006039  0.140154  0.468753  0.025459   \n",
       "MCC_5499    -0.026173     0.039209  0.039246  0.069720  0.049915 -0.007382   \n",
       "MCC_avg     -0.025536     0.047766 -0.022305  0.115325  0.963107  0.069990   \n",
       "\n",
       "             MCC_5812  MCC_5499   MCC_avg  \n",
       "cl_id       -0.001663 -0.026173 -0.025536  \n",
       "target_flag  0.032595  0.039209  0.047766  \n",
       "currency    -0.006039  0.039246 -0.022305  \n",
       "MCC_5411     0.140154  0.069720  0.115325  \n",
       "MCC_6011     0.468753  0.049915  0.963107  \n",
       "MCC_5814     0.025459 -0.007382  0.069990  \n",
       "MCC_5812     1.000000  0.153001  0.676565  \n",
       "MCC_5499     0.153001  1.000000  0.125598  \n",
       "MCC_avg      0.676565  0.125598  1.000000  "
      ]
     },
     "execution_count": 16,
     "metadata": {},
     "output_type": "execute_result"
    }
   ],
   "source": [
    "#для получения наиболее полной информации о взаимодействии количественных признаков (в лоб) между собой в pandas-DataFrame воспользуемся библиотекой seaborn и ее методом pairplot:\n",
    "#sns.pairplot(transactions_train);\n",
    "cl_ids_train.corr(method ='pearson')"
   ]
  },
  {
   "cell_type": "code",
   "execution_count": 18,
   "metadata": {},
   "outputs": [
    {
     "data": {
      "image/png": "[encoded data removed]",
      "text/plain": [
       "<Figure size 864x720 with 2 Axes>"
      ]
     },
     "metadata": {
      "needs_background": "light"
     },
     "output_type": "display_data"
    }
   ],
   "source": [
    "# Проверим сами значения корреляции между числовыми признаками датасета:\n",
    "fig, ax = plt.subplots(figsize=(12,10))\n",
    "sns.heatmap(cl_ids_train.corr(),annot=False,cmap=\"RdYlGn\");"
   ]
  },
  {
   "cell_type": "code",
   "execution_count": 19,
   "metadata": {},
   "outputs": [
    {
     "data": {
      "image/png": "[encoded data removed]",
      "text/plain": [
       "<Figure size 1440x1080 with 9 Axes>"
      ]
     },
     "metadata": {
      "needs_background": "light"
     },
     "output_type": "display_data"
    }
   ],
   "source": [
    "cl_ids_train.hist(figsize=(20,15));"
   ]
  },
  {
   "cell_type": "code",
   "execution_count": 22,
   "metadata": {},
   "outputs": [
    {
     "name": "stdout",
     "output_type": "stream",
     "text": [
      "Train:  0.97\n",
      "Test:  0.94\n"
     ]
    }
   ],
   "source": [
    "x_train = cl_ids_train[list(set(cl_ids_train.columns).difference(['target_flag','channel_type']))]\n",
    "y_train = cl_ids_train['target_flag']\n",
    "x_test = cl_ids_test[list(set(cl_ids_train.columns).difference(['target_flag','channel_type']))]\n",
    "y_test = cl_ids_test['target_flag']\n",
    "\n",
    "xgb = xgboost.XGBClassifier(max_depth=7, n_jobs=-1)\n",
    "xgb.fit(x_train, y_train)\n",
    "y_train_predict = xgb.predict_proba(x_train)[:, 1]\n",
    "y_test_predict = xgb.predict_proba(x_test)[:, 1]\n",
    "roc_auc_train = np.round(roc_auc_score(y_train, y_train_predict), 2)\n",
    "roc_auc_test = np.round(roc_auc_score(y_test, y_test_predict), 2)\n",
    "print(\"Train: \", roc_auc_train)\n",
    "print(\"Test: \", roc_auc_test)"
   ]
  },
  {
   "cell_type": "code",
   "execution_count": 23,
   "metadata": {},
   "outputs": [
    {
     "name": "stdout",
     "output_type": "stream",
     "text": [
      "Train:  0.91\n",
      "Test:  0.89\n"
     ]
    }
   ],
   "source": [
    "xgb = xgboost.XGBClassifier(max_depth=5, n_jobs=-1)\n",
    "xgb.fit(x_train, y_train)\n",
    "y_train_predict = xgb.predict_proba(x_train)[:, 1]\n",
    "y_test_predict = xgb.predict_proba(x_test)[:, 1]\n",
    "roc_auc_train = np.round(roc_auc_score(y_train, y_train_predict), 2)\n",
    "roc_auc_test = np.round(roc_auc_score(y_test, y_test_predict), 2)\n",
    "print(\"Train: \", roc_auc_train)\n",
    "print(\"Test: \", roc_auc_test)"
   ]
  },
  {
   "cell_type": "code",
   "execution_count": 24,
   "metadata": {},
   "outputs": [
    {
     "name": "stdout",
     "output_type": "stream",
     "text": [
      "Train:  0.95\n",
      "Test:  0.92\n"
     ]
    }
   ],
   "source": [
    "xgb = xgboost.XGBClassifier(max_depth=6, n_jobs=-1)\n",
    "xgb.fit(x_train, y_train)\n",
    "y_train_predict = xgb.predict_proba(x_train)[:, 1]\n",
    "y_test_predict = xgb.predict_proba(x_test)[:, 1]\n",
    "roc_auc_train = np.round(roc_auc_score(y_train, y_train_predict), 2)\n",
    "roc_auc_test = np.round(roc_auc_score(y_test, y_test_predict), 2)\n",
    "print(\"Train: \", roc_auc_train)\n",
    "print(\"Test: \", roc_auc_test)"
   ]
  }
 ],
 "metadata": {
  "kernelspec": {
   "display_name": "Python 3",
   "language": "python",
   "name": "python3"
  },
  "language_info": {
   "codemirror_mode": {
    "name": "ipython",
    "version": 3
   },
   "file_extension": ".py",
   "mimetype": "text/x-python",
   "name": "python",
   "nbconvert_exporter": "python",
   "pygments_lexer": "ipython3",
   "version": "3.7.1"
  }
 },
 "nbformat": 4,
 "nbformat_minor": 2
}
